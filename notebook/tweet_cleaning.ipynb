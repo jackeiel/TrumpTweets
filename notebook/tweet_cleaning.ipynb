{
 "cells": [
  {
   "cell_type": "markdown",
   "metadata": {},
   "source": [
    "## Basic Tweet Cleaning for NLP"
   ]
  },
  {
   "cell_type": "code",
   "execution_count": 35,
   "metadata": {},
   "outputs": [],
   "source": [
    "import re\n",
    "\n",
    "import pandas as pd\n",
    "import numpy as np\n",
    "import spacy "
   ]
  },
  {
   "cell_type": "code",
   "execution_count": 36,
   "metadata": {},
   "outputs": [],
   "source": [
    "raw = pd.read_csv('../data/tweets/tweets_24_10_2019.csv', index_col='created_at')\n",
    "\n",
    "raw.rename({'text':'raw_text'}, axis=1, inplace=True)"
   ]
  },
  {
   "cell_type": "code",
   "execution_count": 37,
   "metadata": {},
   "outputs": [
    {
     "data": {
      "text/html": [
       "<div>\n",
       "<style scoped>\n",
       "    .dataframe tbody tr th:only-of-type {\n",
       "        vertical-align: middle;\n",
       "    }\n",
       "\n",
       "    .dataframe tbody tr th {\n",
       "        vertical-align: top;\n",
       "    }\n",
       "\n",
       "    .dataframe thead th {\n",
       "        text-align: right;\n",
       "    }\n",
       "</style>\n",
       "<table border=\"1\" class=\"dataframe\">\n",
       "  <thead>\n",
       "    <tr style=\"text-align: right;\">\n",
       "      <th></th>\n",
       "      <th>source</th>\n",
       "      <th>raw_text</th>\n",
       "      <th>retweet_count</th>\n",
       "      <th>favorite_count</th>\n",
       "      <th>is_retweet</th>\n",
       "      <th>id_str</th>\n",
       "    </tr>\n",
       "    <tr>\n",
       "      <th>created_at</th>\n",
       "      <th></th>\n",
       "      <th></th>\n",
       "      <th></th>\n",
       "      <th></th>\n",
       "      <th></th>\n",
       "      <th></th>\n",
       "    </tr>\n",
       "  </thead>\n",
       "  <tbody>\n",
       "    <tr>\n",
       "      <th>10-24-2019 03:59:32</th>\n",
       "      <td>Twitter for iPhone</td>\n",
       "      <td>RT @bopinion: Of Wisconsin’s 72 counties 23 sw...</td>\n",
       "      <td>4802</td>\n",
       "      <td>0</td>\n",
       "      <td>True</td>\n",
       "      <td>1187217033164967939</td>\n",
       "    </tr>\n",
       "    <tr>\n",
       "      <th>10-24-2019 03:54:48</th>\n",
       "      <td>Twitter for iPhone</td>\n",
       "      <td>RT @realDonaldTrump: https://t.co/ESnxdzR0wM h...</td>\n",
       "      <td>6264</td>\n",
       "      <td>0</td>\n",
       "      <td>True</td>\n",
       "      <td>1187215842435575809</td>\n",
       "    </tr>\n",
       "    <tr>\n",
       "      <th>10-24-2019 02:01:35</th>\n",
       "      <td>Twitter for iPhone</td>\n",
       "      <td>https://t.co/ESnxdzR0wM https://t.co/pcXjrYuQ9e</td>\n",
       "      <td>6296</td>\n",
       "      <td>20463</td>\n",
       "      <td>False</td>\n",
       "      <td>1187187349622575104</td>\n",
       "    </tr>\n",
       "    <tr>\n",
       "      <th>10-23-2019 21:19:33</th>\n",
       "      <td>Twitter for iPhone</td>\n",
       "      <td>PROMISES MADE PROMISES KEPT! #SHALEINSIGHT2019...</td>\n",
       "      <td>16184</td>\n",
       "      <td>61381</td>\n",
       "      <td>False</td>\n",
       "      <td>1187116372997922821</td>\n",
       "    </tr>\n",
       "    <tr>\n",
       "      <th>10-23-2019 21:12:06</th>\n",
       "      <td>Twitter for iPhone</td>\n",
       "      <td>It was wonderful to be back in Pittsburgh Penn...</td>\n",
       "      <td>13979</td>\n",
       "      <td>49186</td>\n",
       "      <td>False</td>\n",
       "      <td>1187114497384898560</td>\n",
       "    </tr>\n",
       "  </tbody>\n",
       "</table>\n",
       "</div>"
      ],
      "text/plain": [
       "                                 source  \\\n",
       "created_at                                \n",
       "10-24-2019 03:59:32  Twitter for iPhone   \n",
       "10-24-2019 03:54:48  Twitter for iPhone   \n",
       "10-24-2019 02:01:35  Twitter for iPhone   \n",
       "10-23-2019 21:19:33  Twitter for iPhone   \n",
       "10-23-2019 21:12:06  Twitter for iPhone   \n",
       "\n",
       "                                                              raw_text  \\\n",
       "created_at                                                               \n",
       "10-24-2019 03:59:32  RT @bopinion: Of Wisconsin’s 72 counties 23 sw...   \n",
       "10-24-2019 03:54:48  RT @realDonaldTrump: https://t.co/ESnxdzR0wM h...   \n",
       "10-24-2019 02:01:35    https://t.co/ESnxdzR0wM https://t.co/pcXjrYuQ9e   \n",
       "10-23-2019 21:19:33  PROMISES MADE PROMISES KEPT! #SHALEINSIGHT2019...   \n",
       "10-23-2019 21:12:06  It was wonderful to be back in Pittsburgh Penn...   \n",
       "\n",
       "                     retweet_count  favorite_count is_retweet  \\\n",
       "created_at                                                      \n",
       "10-24-2019 03:59:32           4802               0       True   \n",
       "10-24-2019 03:54:48           6264               0       True   \n",
       "10-24-2019 02:01:35           6296           20463      False   \n",
       "10-23-2019 21:19:33          16184           61381      False   \n",
       "10-23-2019 21:12:06          13979           49186      False   \n",
       "\n",
       "                                  id_str  \n",
       "created_at                                \n",
       "10-24-2019 03:59:32  1187217033164967939  \n",
       "10-24-2019 03:54:48  1187215842435575809  \n",
       "10-24-2019 02:01:35  1187187349622575104  \n",
       "10-23-2019 21:19:33  1187116372997922821  \n",
       "10-23-2019 21:12:06  1187114497384898560  "
      ]
     },
     "execution_count": 37,
     "metadata": {},
     "output_type": "execute_result"
    }
   ],
   "source": [
    "raw.head()"
   ]
  },
  {
   "cell_type": "code",
   "execution_count": 38,
   "metadata": {},
   "outputs": [],
   "source": [
    "# create three new columns: names mentioned (@...), hashtags used (#...), links ('http...')\n",
    "\n",
    "def find_hashtags(tweet):\n",
    "    hash_regex = re.compile(r'#\\w*')\n",
    "    return hash_regex.findall(tweet)\n",
    "\n",
    "def find_mentions(tweet):\n",
    "    mention_regex = re.compile(r'@\\w*')\n",
    "    return mention_regex.findall(tweet)\n",
    "\n",
    "def find_links(tweet):\n",
    "    link_regex = re.compile(r'http\\S*')\n",
    "    return link_regex.findall(tweet)\n",
    "    \n"
   ]
  },
  {
   "cell_type": "code",
   "execution_count": 39,
   "metadata": {},
   "outputs": [
    {
     "name": "stdout",
     "output_type": "stream",
     "text": [
      "It was wonderful to be back in Pittsburgh Pennsylvania with the incredible Patriots who fuel our factories light up our homes power our industries and fill our hearts with true American Pride! #SHALEINSIGHT2019 https://t.co/hWmN7zNud3\n"
     ]
    }
   ],
   "source": [
    "print(raw.raw_text[4]) "
   ]
  },
  {
   "cell_type": "code",
   "execution_count": 40,
   "metadata": {
    "scrolled": true
   },
   "outputs": [
    {
     "name": "stdout",
     "output_type": "stream",
     "text": [
      "['#SHALEINSIGHT2019']\n",
      "[]\n",
      "['https://t.co/hWmN7zNud3']\n"
     ]
    }
   ],
   "source": [
    "print(find_hashtags(raw.raw_text[4]))\n",
    "print(find_mentions(raw.raw_text[4]))\n",
    "print(find_links(raw.raw_text[4]))"
   ]
  },
  {
   "cell_type": "code",
   "execution_count": 41,
   "metadata": {},
   "outputs": [
    {
     "data": {
      "text/html": [
       "<div>\n",
       "<style scoped>\n",
       "    .dataframe tbody tr th:only-of-type {\n",
       "        vertical-align: middle;\n",
       "    }\n",
       "\n",
       "    .dataframe tbody tr th {\n",
       "        vertical-align: top;\n",
       "    }\n",
       "\n",
       "    .dataframe thead th {\n",
       "        text-align: right;\n",
       "    }\n",
       "</style>\n",
       "<table border=\"1\" class=\"dataframe\">\n",
       "  <thead>\n",
       "    <tr style=\"text-align: right;\">\n",
       "      <th></th>\n",
       "      <th>source</th>\n",
       "      <th>raw_text</th>\n",
       "      <th>retweet_count</th>\n",
       "      <th>favorite_count</th>\n",
       "      <th>is_retweet</th>\n",
       "      <th>id_str</th>\n",
       "      <th>hashtags</th>\n",
       "      <th>mentions</th>\n",
       "      <th>links</th>\n",
       "    </tr>\n",
       "    <tr>\n",
       "      <th>created_at</th>\n",
       "      <th></th>\n",
       "      <th></th>\n",
       "      <th></th>\n",
       "      <th></th>\n",
       "      <th></th>\n",
       "      <th></th>\n",
       "      <th></th>\n",
       "      <th></th>\n",
       "      <th></th>\n",
       "    </tr>\n",
       "  </thead>\n",
       "  <tbody>\n",
       "    <tr>\n",
       "      <th>10-24-2019 03:59:32</th>\n",
       "      <td>Twitter for iPhone</td>\n",
       "      <td>RT @bopinion: Of Wisconsin’s 72 counties 23 sw...</td>\n",
       "      <td>4802</td>\n",
       "      <td>0</td>\n",
       "      <td>True</td>\n",
       "      <td>1187217033164967939</td>\n",
       "      <td>[]</td>\n",
       "      <td>[@bopinion]</td>\n",
       "      <td>[https://t.co/4E0xFLZwlF, https://t.co/f…]</td>\n",
       "    </tr>\n",
       "    <tr>\n",
       "      <th>10-24-2019 03:54:48</th>\n",
       "      <td>Twitter for iPhone</td>\n",
       "      <td>RT @realDonaldTrump: https://t.co/ESnxdzR0wM h...</td>\n",
       "      <td>6264</td>\n",
       "      <td>0</td>\n",
       "      <td>True</td>\n",
       "      <td>1187215842435575809</td>\n",
       "      <td>[]</td>\n",
       "      <td>[@realDonaldTrump]</td>\n",
       "      <td>[https://t.co/ESnxdzR0wM, https://t.co/pcXjrYu...</td>\n",
       "    </tr>\n",
       "    <tr>\n",
       "      <th>10-24-2019 02:01:35</th>\n",
       "      <td>Twitter for iPhone</td>\n",
       "      <td>https://t.co/ESnxdzR0wM https://t.co/pcXjrYuQ9e</td>\n",
       "      <td>6296</td>\n",
       "      <td>20463</td>\n",
       "      <td>False</td>\n",
       "      <td>1187187349622575104</td>\n",
       "      <td>[]</td>\n",
       "      <td>[]</td>\n",
       "      <td>[https://t.co/ESnxdzR0wM, https://t.co/pcXjrYu...</td>\n",
       "    </tr>\n",
       "    <tr>\n",
       "      <th>10-23-2019 21:19:33</th>\n",
       "      <td>Twitter for iPhone</td>\n",
       "      <td>PROMISES MADE PROMISES KEPT! #SHALEINSIGHT2019...</td>\n",
       "      <td>16184</td>\n",
       "      <td>61381</td>\n",
       "      <td>False</td>\n",
       "      <td>1187116372997922821</td>\n",
       "      <td>[#SHALEINSIGHT2019]</td>\n",
       "      <td>[]</td>\n",
       "      <td>[https://t.co/kCkw3K8k5o]</td>\n",
       "    </tr>\n",
       "    <tr>\n",
       "      <th>10-23-2019 21:12:06</th>\n",
       "      <td>Twitter for iPhone</td>\n",
       "      <td>It was wonderful to be back in Pittsburgh Penn...</td>\n",
       "      <td>13979</td>\n",
       "      <td>49186</td>\n",
       "      <td>False</td>\n",
       "      <td>1187114497384898560</td>\n",
       "      <td>[#SHALEINSIGHT2019]</td>\n",
       "      <td>[]</td>\n",
       "      <td>[https://t.co/hWmN7zNud3]</td>\n",
       "    </tr>\n",
       "  </tbody>\n",
       "</table>\n",
       "</div>"
      ],
      "text/plain": [
       "                                 source  \\\n",
       "created_at                                \n",
       "10-24-2019 03:59:32  Twitter for iPhone   \n",
       "10-24-2019 03:54:48  Twitter for iPhone   \n",
       "10-24-2019 02:01:35  Twitter for iPhone   \n",
       "10-23-2019 21:19:33  Twitter for iPhone   \n",
       "10-23-2019 21:12:06  Twitter for iPhone   \n",
       "\n",
       "                                                              raw_text  \\\n",
       "created_at                                                               \n",
       "10-24-2019 03:59:32  RT @bopinion: Of Wisconsin’s 72 counties 23 sw...   \n",
       "10-24-2019 03:54:48  RT @realDonaldTrump: https://t.co/ESnxdzR0wM h...   \n",
       "10-24-2019 02:01:35    https://t.co/ESnxdzR0wM https://t.co/pcXjrYuQ9e   \n",
       "10-23-2019 21:19:33  PROMISES MADE PROMISES KEPT! #SHALEINSIGHT2019...   \n",
       "10-23-2019 21:12:06  It was wonderful to be back in Pittsburgh Penn...   \n",
       "\n",
       "                     retweet_count  favorite_count is_retweet  \\\n",
       "created_at                                                      \n",
       "10-24-2019 03:59:32           4802               0       True   \n",
       "10-24-2019 03:54:48           6264               0       True   \n",
       "10-24-2019 02:01:35           6296           20463      False   \n",
       "10-23-2019 21:19:33          16184           61381      False   \n",
       "10-23-2019 21:12:06          13979           49186      False   \n",
       "\n",
       "                                  id_str             hashtags  \\\n",
       "created_at                                                      \n",
       "10-24-2019 03:59:32  1187217033164967939                   []   \n",
       "10-24-2019 03:54:48  1187215842435575809                   []   \n",
       "10-24-2019 02:01:35  1187187349622575104                   []   \n",
       "10-23-2019 21:19:33  1187116372997922821  [#SHALEINSIGHT2019]   \n",
       "10-23-2019 21:12:06  1187114497384898560  [#SHALEINSIGHT2019]   \n",
       "\n",
       "                               mentions  \\\n",
       "created_at                                \n",
       "10-24-2019 03:59:32         [@bopinion]   \n",
       "10-24-2019 03:54:48  [@realDonaldTrump]   \n",
       "10-24-2019 02:01:35                  []   \n",
       "10-23-2019 21:19:33                  []   \n",
       "10-23-2019 21:12:06                  []   \n",
       "\n",
       "                                                                 links  \n",
       "created_at                                                              \n",
       "10-24-2019 03:59:32         [https://t.co/4E0xFLZwlF, https://t.co/f…]  \n",
       "10-24-2019 03:54:48  [https://t.co/ESnxdzR0wM, https://t.co/pcXjrYu...  \n",
       "10-24-2019 02:01:35  [https://t.co/ESnxdzR0wM, https://t.co/pcXjrYu...  \n",
       "10-23-2019 21:19:33                          [https://t.co/kCkw3K8k5o]  \n",
       "10-23-2019 21:12:06                          [https://t.co/hWmN7zNud3]  "
      ]
     },
     "execution_count": 41,
     "metadata": {},
     "output_type": "execute_result"
    }
   ],
   "source": [
    "raw['hashtags'] = raw.raw_text.apply(find_hashtags)\n",
    "raw['mentions'] = raw.raw_text.apply(find_mentions)\n",
    "raw['links'] = raw.raw_text.apply(find_links)\n",
    "raw.head()"
   ]
  },
  {
   "cell_type": "code",
   "execution_count": 42,
   "metadata": {},
   "outputs": [],
   "source": [
    "# now let's clean the actual tweet so it's just the message\n",
    "\n",
    "# removes RT header ('RT @IvankaTrump: '), links, and hashtags\n",
    "# leave instances of '@HillaryClinton?' or 'MikePence!' since these\n",
    "# are directed *at* people. Will tag as entities later through nlp\n",
    "    \n",
    "def clean_tweet(df):\n",
    "    word_list = ['RT', '...'] + df.hashtags + [mention+':' for mention in df.mentions] + df.links\n",
    "    \n",
    "    raw_tweet = df.raw_text\n",
    "    try:\n",
    "        for stop in word_list:\n",
    "            raw_tweet = raw_tweet.replace(stop, '')\n",
    "        return raw_tweet\n",
    "    except:\n",
    "        return np.nan\n",
    "        \n",
    "    "
   ]
  },
  {
   "cell_type": "code",
   "execution_count": 43,
   "metadata": {},
   "outputs": [],
   "source": [
    "raw['clean_text'] = raw.apply(clean_tweet, axis=1)"
   ]
  },
  {
   "cell_type": "code",
   "execution_count": 44,
   "metadata": {},
   "outputs": [
    {
     "data": {
      "text/html": [
       "<div>\n",
       "<style scoped>\n",
       "    .dataframe tbody tr th:only-of-type {\n",
       "        vertical-align: middle;\n",
       "    }\n",
       "\n",
       "    .dataframe tbody tr th {\n",
       "        vertical-align: top;\n",
       "    }\n",
       "\n",
       "    .dataframe thead th {\n",
       "        text-align: right;\n",
       "    }\n",
       "</style>\n",
       "<table border=\"1\" class=\"dataframe\">\n",
       "  <thead>\n",
       "    <tr style=\"text-align: right;\">\n",
       "      <th></th>\n",
       "      <th>source</th>\n",
       "      <th>raw_text</th>\n",
       "      <th>retweet_count</th>\n",
       "      <th>favorite_count</th>\n",
       "      <th>is_retweet</th>\n",
       "      <th>id_str</th>\n",
       "      <th>hashtags</th>\n",
       "      <th>mentions</th>\n",
       "      <th>links</th>\n",
       "      <th>clean_text</th>\n",
       "    </tr>\n",
       "    <tr>\n",
       "      <th>created_at</th>\n",
       "      <th></th>\n",
       "      <th></th>\n",
       "      <th></th>\n",
       "      <th></th>\n",
       "      <th></th>\n",
       "      <th></th>\n",
       "      <th></th>\n",
       "      <th></th>\n",
       "      <th></th>\n",
       "      <th></th>\n",
       "    </tr>\n",
       "  </thead>\n",
       "  <tbody>\n",
       "    <tr>\n",
       "      <th>10-24-2019 03:59:32</th>\n",
       "      <td>Twitter for iPhone</td>\n",
       "      <td>RT @bopinion: Of Wisconsin’s 72 counties 23 sw...</td>\n",
       "      <td>4802</td>\n",
       "      <td>0</td>\n",
       "      <td>True</td>\n",
       "      <td>1187217033164967939</td>\n",
       "      <td>[]</td>\n",
       "      <td>[@bopinion]</td>\n",
       "      <td>[https://t.co/4E0xFLZwlF, https://t.co/f…]</td>\n",
       "      <td>Of Wisconsin’s 72 counties 23 switched from ...</td>\n",
       "    </tr>\n",
       "    <tr>\n",
       "      <th>10-24-2019 03:54:48</th>\n",
       "      <td>Twitter for iPhone</td>\n",
       "      <td>RT @realDonaldTrump: https://t.co/ESnxdzR0wM h...</td>\n",
       "      <td>6264</td>\n",
       "      <td>0</td>\n",
       "      <td>True</td>\n",
       "      <td>1187215842435575809</td>\n",
       "      <td>[]</td>\n",
       "      <td>[@realDonaldTrump]</td>\n",
       "      <td>[https://t.co/ESnxdzR0wM, https://t.co/pcXjrYu...</td>\n",
       "      <td></td>\n",
       "    </tr>\n",
       "    <tr>\n",
       "      <th>10-24-2019 02:01:35</th>\n",
       "      <td>Twitter for iPhone</td>\n",
       "      <td>https://t.co/ESnxdzR0wM https://t.co/pcXjrYuQ9e</td>\n",
       "      <td>6296</td>\n",
       "      <td>20463</td>\n",
       "      <td>False</td>\n",
       "      <td>1187187349622575104</td>\n",
       "      <td>[]</td>\n",
       "      <td>[]</td>\n",
       "      <td>[https://t.co/ESnxdzR0wM, https://t.co/pcXjrYu...</td>\n",
       "      <td></td>\n",
       "    </tr>\n",
       "    <tr>\n",
       "      <th>10-23-2019 21:19:33</th>\n",
       "      <td>Twitter for iPhone</td>\n",
       "      <td>PROMISES MADE PROMISES KEPT! #SHALEINSIGHT2019...</td>\n",
       "      <td>16184</td>\n",
       "      <td>61381</td>\n",
       "      <td>False</td>\n",
       "      <td>1187116372997922821</td>\n",
       "      <td>[#SHALEINSIGHT2019]</td>\n",
       "      <td>[]</td>\n",
       "      <td>[https://t.co/kCkw3K8k5o]</td>\n",
       "      <td>PROMISES MADE PROMISES KEPT!</td>\n",
       "    </tr>\n",
       "    <tr>\n",
       "      <th>10-23-2019 21:12:06</th>\n",
       "      <td>Twitter for iPhone</td>\n",
       "      <td>It was wonderful to be back in Pittsburgh Penn...</td>\n",
       "      <td>13979</td>\n",
       "      <td>49186</td>\n",
       "      <td>False</td>\n",
       "      <td>1187114497384898560</td>\n",
       "      <td>[#SHALEINSIGHT2019]</td>\n",
       "      <td>[]</td>\n",
       "      <td>[https://t.co/hWmN7zNud3]</td>\n",
       "      <td>It was wonderful to be back in Pittsburgh Penn...</td>\n",
       "    </tr>\n",
       "  </tbody>\n",
       "</table>\n",
       "</div>"
      ],
      "text/plain": [
       "                                 source  \\\n",
       "created_at                                \n",
       "10-24-2019 03:59:32  Twitter for iPhone   \n",
       "10-24-2019 03:54:48  Twitter for iPhone   \n",
       "10-24-2019 02:01:35  Twitter for iPhone   \n",
       "10-23-2019 21:19:33  Twitter for iPhone   \n",
       "10-23-2019 21:12:06  Twitter for iPhone   \n",
       "\n",
       "                                                              raw_text  \\\n",
       "created_at                                                               \n",
       "10-24-2019 03:59:32  RT @bopinion: Of Wisconsin’s 72 counties 23 sw...   \n",
       "10-24-2019 03:54:48  RT @realDonaldTrump: https://t.co/ESnxdzR0wM h...   \n",
       "10-24-2019 02:01:35    https://t.co/ESnxdzR0wM https://t.co/pcXjrYuQ9e   \n",
       "10-23-2019 21:19:33  PROMISES MADE PROMISES KEPT! #SHALEINSIGHT2019...   \n",
       "10-23-2019 21:12:06  It was wonderful to be back in Pittsburgh Penn...   \n",
       "\n",
       "                     retweet_count  favorite_count is_retweet  \\\n",
       "created_at                                                      \n",
       "10-24-2019 03:59:32           4802               0       True   \n",
       "10-24-2019 03:54:48           6264               0       True   \n",
       "10-24-2019 02:01:35           6296           20463      False   \n",
       "10-23-2019 21:19:33          16184           61381      False   \n",
       "10-23-2019 21:12:06          13979           49186      False   \n",
       "\n",
       "                                  id_str             hashtags  \\\n",
       "created_at                                                      \n",
       "10-24-2019 03:59:32  1187217033164967939                   []   \n",
       "10-24-2019 03:54:48  1187215842435575809                   []   \n",
       "10-24-2019 02:01:35  1187187349622575104                   []   \n",
       "10-23-2019 21:19:33  1187116372997922821  [#SHALEINSIGHT2019]   \n",
       "10-23-2019 21:12:06  1187114497384898560  [#SHALEINSIGHT2019]   \n",
       "\n",
       "                               mentions  \\\n",
       "created_at                                \n",
       "10-24-2019 03:59:32         [@bopinion]   \n",
       "10-24-2019 03:54:48  [@realDonaldTrump]   \n",
       "10-24-2019 02:01:35                  []   \n",
       "10-23-2019 21:19:33                  []   \n",
       "10-23-2019 21:12:06                  []   \n",
       "\n",
       "                                                                 links  \\\n",
       "created_at                                                               \n",
       "10-24-2019 03:59:32         [https://t.co/4E0xFLZwlF, https://t.co/f…]   \n",
       "10-24-2019 03:54:48  [https://t.co/ESnxdzR0wM, https://t.co/pcXjrYu...   \n",
       "10-24-2019 02:01:35  [https://t.co/ESnxdzR0wM, https://t.co/pcXjrYu...   \n",
       "10-23-2019 21:19:33                          [https://t.co/kCkw3K8k5o]   \n",
       "10-23-2019 21:12:06                          [https://t.co/hWmN7zNud3]   \n",
       "\n",
       "                                                            clean_text  \n",
       "created_at                                                              \n",
       "10-24-2019 03:59:32    Of Wisconsin’s 72 counties 23 switched from ...  \n",
       "10-24-2019 03:54:48                                                     \n",
       "10-24-2019 02:01:35                                                     \n",
       "10-23-2019 21:19:33                     PROMISES MADE PROMISES KEPT!    \n",
       "10-23-2019 21:12:06  It was wonderful to be back in Pittsburgh Penn...  "
      ]
     },
     "execution_count": 44,
     "metadata": {},
     "output_type": "execute_result"
    }
   ],
   "source": [
    "raw.head()"
   ]
  },
  {
   "cell_type": "code",
   "execution_count": 45,
   "metadata": {},
   "outputs": [
    {
     "name": "stdout",
     "output_type": "stream",
     "text": [
      "It was wonderful to be back in Pittsburgh Pennsylvania with the incredible Patriots who fuel our factories light up our homes power our industries and fill our hearts with true American Pride! #SHALEINSIGHT2019 https://t.co/hWmN7zNud3 \n",
      "\n",
      "It was wonderful to be back in Pittsburgh Pennsylvania with the incredible Patriots who fuel our factories light up our homes power our industries and fill our hearts with true American Pride!  \n"
     ]
    }
   ],
   "source": [
    "print(raw.raw_text[4], '\\n')\n",
    "print(raw.clean_text[4])"
   ]
  },
  {
   "cell_type": "code",
   "execution_count": 46,
   "metadata": {},
   "outputs": [],
   "source": [
    "nlp = spacy.load('en_core_web_sm')"
   ]
  },
  {
   "cell_type": "code",
   "execution_count": 47,
   "metadata": {},
   "outputs": [],
   "source": [
    "# saves each tweet as a spacy 'doc'\n",
    "raw['doc'] = raw.clean_text.apply(nlp)"
   ]
  },
  {
   "cell_type": "code",
   "execution_count": 48,
   "metadata": {},
   "outputs": [],
   "source": [
    "# create word vectors for each cleaned tweet\n",
    "raw['vector'] = raw.doc.apply(lambda x: x.vector)\n",
    "\n",
    "def find_ents(doc):\n",
    "    return [ent.text for ent in doc.ents]\n",
    "raw['entities'] = raw.doc.apply(find_ents)"
   ]
  },
  {
   "cell_type": "code",
   "execution_count": 49,
   "metadata": {
    "scrolled": true
   },
   "outputs": [
    {
     "data": {
      "text/html": [
       "<div>\n",
       "<style scoped>\n",
       "    .dataframe tbody tr th:only-of-type {\n",
       "        vertical-align: middle;\n",
       "    }\n",
       "\n",
       "    .dataframe tbody tr th {\n",
       "        vertical-align: top;\n",
       "    }\n",
       "\n",
       "    .dataframe thead th {\n",
       "        text-align: right;\n",
       "    }\n",
       "</style>\n",
       "<table border=\"1\" class=\"dataframe\">\n",
       "  <thead>\n",
       "    <tr style=\"text-align: right;\">\n",
       "      <th></th>\n",
       "      <th>doc</th>\n",
       "      <th>vector</th>\n",
       "      <th>entities</th>\n",
       "    </tr>\n",
       "    <tr>\n",
       "      <th>created_at</th>\n",
       "      <th></th>\n",
       "      <th></th>\n",
       "      <th></th>\n",
       "    </tr>\n",
       "  </thead>\n",
       "  <tbody>\n",
       "    <tr>\n",
       "      <th>10-24-2019 03:59:32</th>\n",
       "      <td>(  , Of, Wisconsin, ’s, 72, counties, 23, swit...</td>\n",
       "      <td>[-0.3747789, 1.725721, -0.59561896, -1.2791008...</td>\n",
       "      <td>[Wisconsin, 72, 23, Obama, 2012, Trump, 2016]</td>\n",
       "    </tr>\n",
       "    <tr>\n",
       "      <th>10-24-2019 03:54:48</th>\n",
       "      <td>(   )</td>\n",
       "      <td>[-2.7594738, 1.6421937, -0.110908926, 1.366160...</td>\n",
       "      <td>[]</td>\n",
       "    </tr>\n",
       "    <tr>\n",
       "      <th>10-24-2019 02:01:35</th>\n",
       "      <td>( )</td>\n",
       "      <td>[-1.1562011, 1.0382627, -1.3893983, -0.6023454...</td>\n",
       "      <td>[]</td>\n",
       "    </tr>\n",
       "    <tr>\n",
       "      <th>10-23-2019 21:19:33</th>\n",
       "      <td>(PROMISES, MADE, PROMISES, KEPT, !,  )</td>\n",
       "      <td>[-1.8844684, 0.60330266, -2.3846438, -1.404496...</td>\n",
       "      <td>[]</td>\n",
       "    </tr>\n",
       "    <tr>\n",
       "      <th>10-23-2019 21:12:06</th>\n",
       "      <td>(It, was, wonderful, to, be, back, in, Pittsbu...</td>\n",
       "      <td>[-0.575121, -0.23645799, -1.6973678, -1.135657...</td>\n",
       "      <td>[Pittsburgh, Pennsylvania, American]</td>\n",
       "    </tr>\n",
       "  </tbody>\n",
       "</table>\n",
       "</div>"
      ],
      "text/plain": [
       "                                                                   doc  \\\n",
       "created_at                                                               \n",
       "10-24-2019 03:59:32  (  , Of, Wisconsin, ’s, 72, counties, 23, swit...   \n",
       "10-24-2019 03:54:48                                              (   )   \n",
       "10-24-2019 02:01:35                                                ( )   \n",
       "10-23-2019 21:19:33             (PROMISES, MADE, PROMISES, KEPT, !,  )   \n",
       "10-23-2019 21:12:06  (It, was, wonderful, to, be, back, in, Pittsbu...   \n",
       "\n",
       "                                                                vector  \\\n",
       "created_at                                                               \n",
       "10-24-2019 03:59:32  [-0.3747789, 1.725721, -0.59561896, -1.2791008...   \n",
       "10-24-2019 03:54:48  [-2.7594738, 1.6421937, -0.110908926, 1.366160...   \n",
       "10-24-2019 02:01:35  [-1.1562011, 1.0382627, -1.3893983, -0.6023454...   \n",
       "10-23-2019 21:19:33  [-1.8844684, 0.60330266, -2.3846438, -1.404496...   \n",
       "10-23-2019 21:12:06  [-0.575121, -0.23645799, -1.6973678, -1.135657...   \n",
       "\n",
       "                                                          entities  \n",
       "created_at                                                          \n",
       "10-24-2019 03:59:32  [Wisconsin, 72, 23, Obama, 2012, Trump, 2016]  \n",
       "10-24-2019 03:54:48                                             []  \n",
       "10-24-2019 02:01:35                                             []  \n",
       "10-23-2019 21:19:33                                             []  \n",
       "10-23-2019 21:12:06           [Pittsburgh, Pennsylvania, American]  "
      ]
     },
     "execution_count": 49,
     "metadata": {},
     "output_type": "execute_result"
    }
   ],
   "source": [
    "raw[['doc','vector','entities']].head()"
   ]
  },
  {
   "cell_type": "code",
   "execution_count": 50,
   "metadata": {},
   "outputs": [
    {
     "name": "stdout",
     "output_type": "stream",
     "text": [
      "Of\n",
      "Wisconsin’s\n",
      "72\n",
      "counties\n",
      "23\n",
      "switched\n",
      "from\n",
      "voting\n",
      "for\n",
      "Obama\n",
      "in\n",
      "2012\n",
      "to\n",
      "Trump\n",
      "in\n",
      "2016\n"
     ]
    }
   ],
   "source": [
    "for word in str(raw.doc[0]).split():\n",
    "    print(word)"
   ]
  },
  {
   "cell_type": "code",
   "execution_count": 51,
   "metadata": {},
   "outputs": [
    {
     "data": {
      "text/plain": [
       "16"
      ]
     },
     "execution_count": 51,
     "metadata": {},
     "output_type": "execute_result"
    }
   ],
   "source": [
    "len(str(raw.doc[0]).split())"
   ]
  },
  {
   "cell_type": "code",
   "execution_count": 52,
   "metadata": {},
   "outputs": [
    {
     "data": {
      "text/plain": [
       "19"
      ]
     },
     "execution_count": 52,
     "metadata": {},
     "output_type": "execute_result"
    }
   ],
   "source": [
    "len(raw.doc[0])\n",
    "# one longer because it separates the apostrophe 's' as a particle... \n",
    "# see below"
   ]
  },
  {
   "cell_type": "code",
   "execution_count": 53,
   "metadata": {},
   "outputs": [
    {
     "name": "stdout",
     "output_type": "stream",
     "text": [
      "SPACE\n",
      "ADP\n",
      "PROPN\n",
      "PART\n",
      "NUM\n",
      "NOUN\n",
      "NUM\n",
      "VERB\n",
      "ADP\n",
      "VERB\n",
      "ADP\n",
      "PROPN\n",
      "ADP\n",
      "NUM\n",
      "ADP\n",
      "PROPN\n",
      "ADP\n",
      "NUM\n",
      "SPACE\n"
     ]
    }
   ],
   "source": [
    "for token in raw.doc[0]:\n",
    "    print(token.pos_)"
   ]
  },
  {
   "cell_type": "code",
   "execution_count": 54,
   "metadata": {},
   "outputs": [
    {
     "data": {
      "text/plain": [
       "'particle'"
      ]
     },
     "execution_count": 54,
     "metadata": {},
     "output_type": "execute_result"
    }
   ],
   "source": [
    "spacy.explain('PART')"
   ]
  },
  {
   "cell_type": "code",
   "execution_count": 55,
   "metadata": {
    "scrolled": true
   },
   "outputs": [
    {
     "name": "stdout",
     "output_type": "stream",
     "text": [
      "\n",
      "        Pickle (serialize) object to file.\n",
      "\n",
      "        Parameters\n",
      "        ----------\n",
      "        path : str\n",
      "            File path where the pickled object will be stored.\n",
      "        compression : {'infer', 'gzip', 'bz2', 'zip', 'xz', None},         default 'infer'\n",
      "            A string representing the compression to use in the output file. By\n",
      "            default, infers from the file extension in specified path.\n",
      "\n",
      "            .. versionadded:: 0.20.0\n",
      "        protocol : int\n",
      "            Int which indicates which protocol should be used by the pickler,\n",
      "            default HIGHEST_PROTOCOL (see [1]_ paragraph 12.1.2). The possible\n",
      "            values for this parameter depend on the version of Python. For\n",
      "            Python 2.x, possible values are 0, 1, 2. For Python>=3.0, 3 is a\n",
      "            valid value. For Python >= 3.4, 4 is a valid value. A negative\n",
      "            value for the protocol parameter is equivalent to setting its value\n",
      "            to HIGHEST_PROTOCOL.\n",
      "\n",
      "            .. [1] https://docs.python.org/3/library/pickle.html\n",
      "            .. versionadded:: 0.21.0\n",
      "\n",
      "        See Also\n",
      "        --------\n",
      "        read_pickle : Load pickled pandas object (or any object) from file.\n",
      "        DataFrame.to_hdf : Write DataFrame to an HDF5 file.\n",
      "        DataFrame.to_sql : Write DataFrame to a SQL database.\n",
      "        DataFrame.to_parquet : Write a DataFrame to the binary parquet format.\n",
      "\n",
      "        Examples\n",
      "        --------\n",
      "        >>> original_df = pd.DataFrame({\"foo\": range(5), \"bar\": range(5, 10)})\n",
      "        >>> original_df\n",
      "           foo  bar\n",
      "        0    0    5\n",
      "        1    1    6\n",
      "        2    2    7\n",
      "        3    3    8\n",
      "        4    4    9\n",
      "        >>> original_df.to_pickle(\"./dummy.pkl\")\n",
      "\n",
      "        >>> unpickled_df = pd.read_pickle(\"./dummy.pkl\")\n",
      "        >>> unpickled_df\n",
      "           foo  bar\n",
      "        0    0    5\n",
      "        1    1    6\n",
      "        2    2    7\n",
      "        3    3    8\n",
      "        4    4    9\n",
      "\n",
      "        >>> import os\n",
      "        >>> os.remove(\"./dummy.pkl\")\n",
      "        \n"
     ]
    }
   ],
   "source": [
    "print(pd.DataFrame.to_pickle.__doc__)"
   ]
  },
  {
   "cell_type": "code",
   "execution_count": 56,
   "metadata": {},
   "outputs": [],
   "source": [
    "# pickle the dataframe so Docs are saved for later use\n",
    "raw.to_pickle('../data/tweets/clean_tweets_24_10_2019.pkl')"
   ]
  },
  {
   "cell_type": "code",
   "execution_count": null,
   "metadata": {},
   "outputs": [],
   "source": []
  }
 ],
 "metadata": {
  "kernelspec": {
   "display_name": "Python 3",
   "language": "python",
   "name": "python3"
  },
  "language_info": {
   "codemirror_mode": {
    "name": "ipython",
    "version": 3
   },
   "file_extension": ".py",
   "mimetype": "text/x-python",
   "name": "python",
   "nbconvert_exporter": "python",
   "pygments_lexer": "ipython3",
   "version": "3.7.3"
  }
 },
 "nbformat": 4,
 "nbformat_minor": 2
}
